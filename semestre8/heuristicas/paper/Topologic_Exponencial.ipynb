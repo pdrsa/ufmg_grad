{
 "cells": [
  {
   "cell_type": "code",
   "execution_count": 45,
   "id": "8fa5051c-7e6b-4180-afc5-8f0549d693e3",
   "metadata": {},
   "outputs": [],
   "source": [
    "from tqdm import tqdm"
   ]
  },
  {
   "cell_type": "code",
   "execution_count": 41,
   "id": "ecd47c27",
   "metadata": {},
   "outputs": [],
   "source": [
    "# #Exemplo de grafo em G e lista de seus vértices em V\n",
    "# G = {\n",
    "#     7: [11, 8],\n",
    "#     5: [11],\n",
    "#     3: [8, 10],\n",
    "#     11: [2, 9, 10],\n",
    "#     8: [9],\n",
    "# }\n",
    "\n",
    "# labels = {\n",
    "#     2: \"A\",\n",
    "#     3: \"B\",\n",
    "#     5: \"C\",\n",
    "#     7: \"D\",\n",
    "#     8: \"E\",\n",
    "#     9: \"F\", \n",
    "#     10: \"G\", \n",
    "#     11: \"H\"\n",
    "# }\n",
    "\n",
    "# V = [2, 3, 5, 7, 8, 9, 10, 11]"
   ]
  },
  {
   "cell_type": "code",
   "execution_count": 2,
   "id": "55fb93ff",
   "metadata": {},
   "outputs": [],
   "source": [
    "#Retorna o uma string correspondente aos labels de uma permutação\n",
    "def getLabel(s):\n",
    "    global labels\n",
    "    label = \"\"\n",
    "    for v in s:\n",
    "        label += str(labels[v])\n",
    "    return label"
   ]
  },
  {
   "cell_type": "code",
   "execution_count": 46,
   "id": "7236352b",
   "metadata": {},
   "outputs": [],
   "source": [
    "#Retorna uma lista com todas as permutações possíveis de vértices\n",
    "def permutations(s):\n",
    "    if len(s) <= 1:\n",
    "        return [s]\n",
    "    else:\n",
    "        res = []\n",
    "        for p in permutations(s[1:]):\n",
    "            for i in range(len(p)+1):\n",
    "                inst = []\n",
    "                for j in p[:i]:\n",
    "                    inst.append(j)\n",
    "                inst.append(s[0])\n",
    "                for j in p[i:]:\n",
    "                    inst.append(j)\n",
    "                res.append(inst)\n",
    "        return res"
   ]
  },
  {
   "cell_type": "code",
   "execution_count": 4,
   "id": "936cdbe6",
   "metadata": {},
   "outputs": [],
   "source": [
    "#Confere se uma determinada permutação é uma ordenação topológica válida de um grafo\n",
    "def isTopologic(s, g, v):\n",
    "    for i in v:\n",
    "        if s.count(i) != 1:\n",
    "            return False\n",
    "    for i in range(len(s)):\n",
    "        for j in range(i):\n",
    "            if s[i] in g:\n",
    "                if s[j] in g[s[i]]:\n",
    "                    return False\n",
    "    return True"
   ]
  },
  {
   "cell_type": "code",
   "execution_count": 56,
   "id": "e93eeb72",
   "metadata": {},
   "outputs": [],
   "source": [
    "#Solicita o input das arestas do grafo, e retorna um objeto que representa o grafo e uma lista com os vértices desse grafo\n",
    "def getInput(file):\n",
    "    f = open(file, \"r\")\n",
    "    s = f.readline().split(\" \")\n",
    "    N = int(s[0])\n",
    "    arestas = int(s[1])\n",
    "    G = {}\n",
    "    V = [i for i in range(1, N+1)]\n",
    "    L = {}\n",
    "    for v in V:\n",
    "        label = f.readline().replace(\"\\n\", \"\")\n",
    "        L[v] = label\n",
    "    for x in range(arestas):\n",
    "        a = f.readline().replace(\"\\n\", \"\").split(\" \")\n",
    "        i = int(a[0])\n",
    "        j = int(a[1])\n",
    "        if not i in G:\n",
    "            G[i] = [j]\n",
    "        else:\n",
    "            G[i].append(j)\n",
    "        if i not in V:\n",
    "            V.append(i)\n",
    "        if j not in V:\n",
    "            V.append(j)\n",
    "    return G, V, L"
   ]
  },
  {
   "cell_type": "code",
   "execution_count": 88,
   "id": "65b1a761",
   "metadata": {},
   "outputs": [],
   "source": [
    "#Resolve o problema e retorna a permutação correta\n",
    "def solve(g, v):\n",
    "    P = permutations(v)\n",
    "    P.sort(key=getLabel) #Ordena as permutações para testar as melhores primeiro\n",
    "    for p in P:\n",
    "        if isTopologic(p, g, v): #Testa se é ordenação topológica válida\n",
    "            return p"
   ]
  },
  {
   "cell_type": "code",
   "execution_count": 2,
   "id": "59319fe8-7299-4aca-8519-8e407137f315",
   "metadata": {},
   "outputs": [],
   "source": [
    "import math\n",
    "def cost(ans):\n",
    "    n = len(ans)\n",
    "    cost = 0\n",
    "    for i in range(n):\n",
    "        cost += 2**(n-i)*ans[i]\n",
    "    return math.log(cost, 2)"
   ]
  },
  {
   "cell_type": "code",
   "execution_count": 71,
   "id": "3b730abe-8e49-486a-806f-3412f0e28019",
   "metadata": {},
   "outputs": [
    {
     "name": "stdout",
     "output_type": "stream",
     "text": [
      "Yay\n"
     ]
    },
    {
     "name": "stderr",
     "output_type": "stream",
     "text": [
      " 75%|███████████████████████████████████████████████▎               | 90/120 [00:00<00:00, 633368.05it/s]\n"
     ]
    },
    {
     "data": {
      "text/plain": [
       "[1, 2, 3, 5, 4]"
      ]
     },
     "execution_count": 71,
     "metadata": {},
     "output_type": "execute_result"
    }
   ],
   "source": [
    "solve(G,V)"
   ]
  },
  {
   "cell_type": "code",
   "execution_count": 80,
   "id": "42030f89-dda9-47ee-84c4-f7959c370717",
   "metadata": {},
   "outputs": [
    {
     "data": {
      "text/plain": [
       "({1: [2, 3, 5, 4], 3: [5, 4], 2: [3, 5, 4], 5: [4]},\n",
       " [1, 2, 3, 4, 5],\n",
       " {1: '3', 2: '1', 3: '2', 4: '0', 5: '3'})"
      ]
     },
     "execution_count": 80,
     "metadata": {},
     "output_type": "execute_result"
    }
   ],
   "source": [
    "G, V, labels"
   ]
  },
  {
   "cell_type": "code",
   "execution_count": 85,
   "id": "ba577f20-a6b5-4ffc-b155-01d12e0beece",
   "metadata": {},
   "outputs": [],
   "source": [
    "from time import time"
   ]
  },
  {
   "cell_type": "code",
   "execution_count": 4,
   "id": "9d73708d",
   "metadata": {},
   "outputs": [
    {
     "name": "stdout",
     "output_type": "stream",
     "text": [
      "Custo: 23.593470683668244\n",
      "Solução: [3, 12, 1, 19, 0, 6, 6, 7, 17, 12, 9, 13, 15, 6, 2, 6, 16, 10, 3, 15]\n"
     ]
    }
   ],
   "source": [
    "#Descomente a linha de baixo se você quer inserir um input\n",
    "# G, V, labels = getInput(\"tc\")\n",
    "# a = time()\n",
    "ans1 = [3,12,1,19,0,6,6,7,17,12,9,13,15,6,2,6,16,10,3,15]\n",
    "print(\"Custo:\", cost(ans1))\n",
    "print(\"Solução:\", ans1)"
   ]
  }
 ],
 "metadata": {
  "kernelspec": {
   "display_name": "Python 3 (ipykernel)",
   "language": "python",
   "name": "python3"
  },
  "language_info": {
   "codemirror_mode": {
    "name": "ipython",
    "version": 3
   },
   "file_extension": ".py",
   "mimetype": "text/x-python",
   "name": "python",
   "nbconvert_exporter": "python",
   "pygments_lexer": "ipython3",
   "version": "3.9.7"
  }
 },
 "nbformat": 4,
 "nbformat_minor": 5
}
