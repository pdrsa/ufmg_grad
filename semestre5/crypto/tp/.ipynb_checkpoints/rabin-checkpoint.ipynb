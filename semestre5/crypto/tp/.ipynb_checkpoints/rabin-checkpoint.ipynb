{
 "cells": [
  {
   "cell_type": "markdown",
   "metadata": {},
   "source": [
    "## Técnicas Computacionais\n",
    "\n",
    "Para a escolha de chaves e a encriptação, basta utilizar um algoritmo de geração de primos pseudo aleatórios e realizar o cálculo de um quadrado e um módulo. Para a decriptação, precisamos fazer uso de algumas técnicas computacionais conhecidas."
   ]
  },
  {
   "cell_type": "markdown",
   "metadata": {},
   "source": [
    "### Encontrando as Chaves\n",
    "\n",
    "Primeiro, encontramos uma chave pelo seguinte processo:\n",
    "\n",
    "Para a escolha de chaves e a encriptação, basta utilizar um algoritmo de geração de primos pseudo aleatórios e realizar o cálculo de um quadrado e um módulo. Para a decriptação, precisamos fazer uso de algumas técnicas computacionais conhecidas.\n",
    "\n",
    "1. Escolher 2 primos grandes $p$ e $q$ tais que $p \\equiv q \\equiv 3 \\mod 4$\n",
    "\n",
    "2. Calcular $n$ tal que $n = pq$\n",
    "\n",
    "Os números calculados serão as chaves:\n",
    "\n",
    "* Chave Pública: Um inteiro $n = pq$\n",
    "\n",
    "* Chave Privada: Par ordenado $(p, q)$."
   ]
  },
  {
   "cell_type": "code",
   "execution_count": 139,
   "metadata": {},
   "outputs": [
    {
     "name": "stdout",
     "output_type": "stream",
     "text": [
      "Chave Pública:  9613920339930628193\n",
      "Chave Privada:  (4236167291, 2269485523)\n"
     ]
    }
   ],
   "source": [
    "from Crypto.Util import number\n",
    "\n",
    "p = q = 0\n",
    "while(p % 4 != 3):\n",
    "    p = number.getPrime(32)\n",
    "while(q % 4 != 3):\n",
    "    q = number.getPrime(32)\n",
    "\n",
    "n = p*q\n",
    "\n",
    "print(\"Chave Pública: \", n)\n",
    "print(\"Chave Privada: \", (p, q))"
   ]
  },
  {
   "cell_type": "markdown",
   "metadata": {},
   "source": [
    "### Encriptação\n",
    "\n",
    "Lembrando que Bob tem acesso apenas à chave pública $n$, para encriptar uma mensagem $M$, ele seguiria dois passos:\n",
    "\n",
    "1. Transformar $M$ em um número qualquer tal que $m < n$\n",
    "2. Encontrar $c$ tal que $c \\equiv m^2 \\mod n$\n",
    "\n",
    "O $c$ encontrado é a mensagem criptografada."
   ]
  },
  {
   "cell_type": "code",
   "execution_count": 140,
   "metadata": {},
   "outputs": [],
   "source": [
    "import base64\n",
    "\n",
    "def decode(m):\n",
    "    m       = str(m)\n",
    "    message = \"\"\n",
    "    for i in range(0, len(m)-1, 2):\n",
    "        c        = m[i]+m[i+1]\n",
    "        message += chr(int(c))\n",
    "    \n",
    "    return message\n",
    "\n",
    "def encode(message):\n",
    "    m = \"\"\n",
    "    for c in message:\n",
    "        a = ord(c)\n",
    "        m += str(a)\n",
    "    \n",
    "    return int(m)"
   ]
  },
  {
   "cell_type": "code",
   "execution_count": 141,
   "metadata": {},
   "outputs": [
    {
     "name": "stdout",
     "output_type": "stream",
     "text": [
      "Insira a mensagem: \n"
     ]
    },
    {
     "name": "stdin",
     "output_type": "stream",
     "text": [
      " ISAAC\n"
     ]
    },
    {
     "name": "stdout",
     "output_type": "stream",
     "text": [
      "\n",
      "Mensagem transformada em inteiro: \n",
      "7383656567\n",
      "\n",
      "Essa é a mensagem cifrada: \n",
      "6448782599749084524\n"
     ]
    }
   ],
   "source": [
    "print(\"Insira a mensagem: \")\n",
    "m = encode(input())\n",
    "\n",
    "c = (m ** 2) % n\n",
    "print(\"\\nMensagem transformada em inteiro: \")\n",
    "print(m)\n",
    "print(\"\\nEssa é a mensagem cifrada: \")\n",
    "print(c)"
   ]
  },
  {
   "cell_type": "markdown",
   "metadata": {},
   "source": [
    "---"
   ]
  },
  {
   "cell_type": "markdown",
   "metadata": {},
   "source": [
    "### Decriptação\n",
    "\n",
    "Para decriptar a mensagem, Alice tem acesso à $c$ e $(p,q)$ e irá encontrar o valor original $m$. A decriptação segue três passos:"
   ]
  },
  {
   "cell_type": "markdown",
   "metadata": {},
   "source": [
    "\n",
    "### Primeira Parte - Exponenciação Rápida\n",
    "\n",
    "1. Calcular dois valores $m_p$ e $m_q$ tais que:\n",
    "\n",
    "$$\n",
    "\\begin{align}\n",
    "m_p &\\equiv c^{\\frac{p+1}{4}} \\mod p \\\\\n",
    "m_q &\\equiv c^{\\frac{q+1}{4}} \\mod q\n",
    "\\end{align}\n",
    "$$\n",
    "\n",
    "Para a primeira parte da decriptação, basta a realização de uma exponenciação modular, que pode ser resolvida por meio de um algoritmo de exponenciação rápida em tempo logarítmico no tamanho do expoente.\n",
    "\n",
    "$$\n",
    "x^{y} = (x^2)^{\\frac{y}{2}}\n",
    "$$"
   ]
  },
  {
   "cell_type": "code",
   "execution_count": 142,
   "metadata": {},
   "outputs": [],
   "source": [
    "def fexp(x, y, m): # X ^ Y mod m\n",
    "    if y == 0: return 1\n",
    "    ans = fexp(x * x % m, int(y/2), m)\n",
    "    \n",
    "    if y%2 == 1:\n",
    "        return x * ans % m\n",
    "    else:\n",
    "        return ans"
   ]
  },
  {
   "cell_type": "markdown",
   "metadata": {},
   "source": [
    "#### Calculando:"
   ]
  },
  {
   "cell_type": "code",
   "execution_count": 143,
   "metadata": {},
   "outputs": [
    {
     "name": "stdout",
     "output_type": "stream",
     "text": [
      "M_p:  1088678015\n",
      "M_q:  1694285525\n"
     ]
    }
   ],
   "source": [
    "m_p = fexp(c, int((p+1)/4), p)\n",
    "m_q = fexp(c, int((q+1)/4), q)\n",
    "\n",
    "print(\"M_p: \", m_p)\n",
    "print(\"M_q: \", m_q)"
   ]
  },
  {
   "cell_type": "markdown",
   "metadata": {},
   "source": [
    "---"
   ]
  },
  {
   "cell_type": "markdown",
   "metadata": {},
   "source": [
    "### Segunda Parte - Algoritmo Extendido de Euclides\n",
    "\n",
    "2. Encontrar valores de $x_p$ e $x_q$ que satisfaçam a seguinte equação diofantina:\n",
    "\n",
    "$$\n",
    "p \\cdot x_p + q \\cdot x_q = 1\n",
    "$$\n",
    "\n",
    "Para a segunda parte da decriptação, precisamos resolver uma equação diofantina. Para isso, faremos uso do algoritmo extendido Euclides. O algoritmo extendido de Euclides encontra, dados dois números $a$ e $b$, o mínimo divisor comum entre esses dois números e $x$ e $y$ tais que $p \\cdot x + q \\cdot y = \\gcd(p, q)$. Como $p$ e $q$ são primos, $\\gcd(p, q) = 1$ e portanto o Algoritmo Extendido de Euclides retorna a resposta da equação diofantina."
   ]
  },
  {
   "cell_type": "code",
   "execution_count": 144,
   "metadata": {},
   "outputs": [],
   "source": [
    "def gcdExtended(a, b): \n",
    "    if a == 0 :  \n",
    "        return b, 0, 1\n",
    "             \n",
    "    gcd, x1, y1 = gcdExtended(b%a, a)\n",
    "    \n",
    "    x = y1 - (b//a) * x1 \n",
    "    y = x1 \n",
    "     \n",
    "    return gcd, x, y  "
   ]
  },
  {
   "cell_type": "markdown",
   "metadata": {},
   "source": [
    "#### Calculando:"
   ]
  },
  {
   "cell_type": "code",
   "execution_count": 145,
   "metadata": {},
   "outputs": [
    {
     "name": "stdout",
     "output_type": "stream",
     "text": [
      "X_p:  -86053904\n",
      "X_q:  160626155\n",
      "\n",
      "X_p * p + X_q * q :\n",
      "\n",
      "-86053904 * 4236167291 + 160626155 * 2269485523 = 1\n"
     ]
    }
   ],
   "source": [
    "_, x_p, x_q = gcdExtended(p, q)\n",
    "print(\"X_p: \", x_p)\n",
    "print(\"X_q: \", x_q)\n",
    "print(\"\\nX_p * p + X_q * q :\\n\")\n",
    "print(x_p, \"*\", p, \"+\", x_q, \"*\", q, \"=\", x_p*p + x_q*q)"
   ]
  },
  {
   "cell_type": "markdown",
   "metadata": {},
   "source": [
    "---"
   ]
  },
  {
   "cell_type": "markdown",
   "metadata": {},
   "source": [
    "## Terceira Parte - Teorema Chinês do Resto\n",
    "3. Encontrar quatro possiveis mensagens originais resolvendo as seguintes equações:\n",
    "   $$\n",
    "   \\begin{align}\n",
    "   m_1 &\\equiv x_p \\cdot p \\cdot m_q + x_q \\cdot q \\cdot m_p \\mod n \\\\\n",
    "   m_2 &\\equiv n - m_1 \\\\\n",
    "   m_3 &\\equiv x_p \\cdot p \\cdot m_q - x_q \\cdot q \\cdot m_p \\mod n \\\\\n",
    "   m_4 &\\equiv n - m_3\n",
    "   \\end{align}\n",
    "   $$\n",
    "\n",
    "Para a parte final da decriptação, queremos calcular $m_1$, $m_2$, $m_3$ e $m_4$ tendo em mãos $p$, $m_p$, $x_p$, $q$, $m_q$ e $x_q$. Basta realizarmos as operações, porém, como esses números podem ser muito grandes, em aplicações reais é utilizado o Teorema Chinês do Resto para realizar os cálculos de maneira eficiente. O Teorema Chinês do Resto é muito utilizado na computação de cálculos com inteiros muito grandes e diz que, sabendo os restos da divisão euclidiana de um inteiro $n$ por um conjunto de inteiros é possível determinar o resto da divisão de $n$ pelo produto desses inteiros, desde que todos esses inteiros sejam primos entre si. Para essa demonstração, apenas faremos as operações"
   ]
  },
  {
   "cell_type": "code",
   "execution_count": 147,
   "metadata": {},
   "outputs": [
    {
     "name": "stdout",
     "output_type": "stream",
     "text": [
      "Números encontrados: \n",
      "\n",
      "M1: 9613920332546971626\n",
      "M2: 7383656567\n",
      "M3: 8908131091608564984\n",
      "M4: 705789248322063209\n",
      "\n",
      "Mensagens encontradas: \n",
      "\n",
      "\\\u0003 6EG>\n",
      "M2: ISAAC\n",
      "M3: \n",
      "[<U@b\n",
      "M4: F9Y\u0018S\u0016\u0006 \t\n"
     ]
    }
   ],
   "source": [
    "ans = [0 for i in range(4)]\n",
    "\n",
    "ans[0] = (x_p * p * m_q + x_q * q * m_p) % n\n",
    "ans[1] = n - ans[0]\n",
    "ans[2] = (x_p * p * m_q - x_q * q * m_p) % n\n",
    "ans[3] = n - ans[2]\n",
    "\n",
    "print(\"Números encontrados: \\n\")\n",
    "for i in range(4):\n",
    "    print(\"M\", i+1, \": \", ans[i], sep=\"\")\n",
    "    \n",
    "print(\"\\nMensagens encontradas: \\n\")\n",
    "for i in range(4):\n",
    "    print(\"M\", i+1, \": \", decode(ans[i]), sep=\"\")"
   ]
  }
 ],
 "metadata": {
  "kernelspec": {
   "display_name": "Python 3",
   "language": "python",
   "name": "python3"
  },
  "language_info": {
   "codemirror_mode": {
    "name": "ipython",
    "version": 3
   },
   "file_extension": ".py",
   "mimetype": "text/x-python",
   "name": "python",
   "nbconvert_exporter": "python",
   "pygments_lexer": "ipython3",
   "version": "3.8.5"
  }
 },
 "nbformat": 4,
 "nbformat_minor": 4
}
