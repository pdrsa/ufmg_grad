{
 "cells": [
  {
   "cell_type": "code",
   "execution_count": 90,
   "metadata": {},
   "outputs": [
    {
     "name": "stdin",
     "output_type": "stream",
     "text": [
      " 2 2\n",
      " 10 20\n",
      " 0 1\n",
      " 1 0\n"
     ]
    }
   ],
   "source": [
    "import numpy as np\n",
    "n, m = map(int, input().split())\n",
    "c    = [int(x) for x in input().split()]\n",
    "c    = np.array(c)\n",
    "A    = []\n",
    "sets = [] \n",
    "for i in range(n):\n",
    "    A.append(np.array([int(x) for x in input().split()]))\n",
    "    aux = set()\n",
    "    for j in range(m):\n",
    "        if(A[i][j]):\n",
    "            aux.add(j)\n",
    "    sets.append(aux)\n",
    "A = np.array(A)"
   ]
  },
  {
   "cell_type": "code",
   "execution_count": 109,
   "metadata": {},
   "outputs": [],
   "source": [
    "ansSets = []\n",
    "idxSets = np.zeros(m)\n",
    "x       = np.zeros(n)\n",
    "for i in range(n):\n",
    "    got = False\n",
    "    \n",
    "    # Check on n log n <- We're gonna end up with a O(n^2 log n) algorithm but that's ok\n",
    "    for st in ansSets:\n",
    "        if i in st:\n",
    "            got = True\n",
    "            break\n",
    "    if got: continue\n",
    "    \n",
    "    augment = float('inf')\n",
    "    for j in range(m):\n",
    "        cur = (A.T[j] @ x) - A.T[j][i] * x[i]\n",
    "        if(A.T[j][i] > 0): augment = min(augment, (c[j] - cur) / A.T[j][i])    \n",
    "    x[i] = augment\n",
    "    # Find row\n",
    "    for j in range(m):\n",
    "        if A.T[j] @ x == c[j]:\n",
    "            ansSets.append(sets[j])\n",
    "            idxSets[j] = 1\n",
    "            break"
   ]
  },
  {
   "cell_type": "code",
   "execution_count": 114,
   "metadata": {},
   "outputs": [
    {
     "name": "stdout",
     "output_type": "stream",
     "text": [
      "1 1 \n",
      "20 10 "
     ]
    }
   ],
   "source": [
    "for idx in idxSets: print(int(idx), end = \" \")\n",
    "print()\n",
    "for val in x: print(int(val), end = \" \")\n",
    "print()"
   ]
  }
 ],
 "metadata": {
  "kernelspec": {
   "display_name": "Python 3",
   "language": "python",
   "name": "python3"
  },
  "language_info": {
   "codemirror_mode": {
    "name": "ipython",
    "version": 3
   },
   "file_extension": ".py",
   "mimetype": "text/x-python",
   "name": "python",
   "nbconvert_exporter": "python",
   "pygments_lexer": "ipython3",
   "version": "3.8.5"
  }
 },
 "nbformat": 4,
 "nbformat_minor": 4
}
