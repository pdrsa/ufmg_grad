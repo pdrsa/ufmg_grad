{
 "cells": [
  {
   "cell_type": "markdown",
   "metadata": {},
   "source": [
    "# [CDAF] Atividade 4"
   ]
  },
  {
   "cell_type": "markdown",
   "metadata": {},
   "source": [
    "## Nome e matrícula\n",
    "Nome: João Antonio Oliveira Pedrosa\n",
    "Matrícula: 2019006752"
   ]
  },
  {
   "cell_type": "markdown",
   "metadata": {},
   "source": [
    "## Referências\n",
    "- [1] https://scikit-learn.org/stable/modules/generated/sklearn.linear_model.LogisticRegression.html\n",
    "- [2] https://socceraction.readthedocs.io/en/latest/api/generated/socceraction.xthreat.ExpectedThreat.html#socceraction.xthreat.ExpectedThreat\n",
    "- [3] https://socceraction.readthedocs.io/en/latest/api/generated/socceraction.xthreat.get_successful_move_actions.html#socceraction.xthreat.get_successful_move_actions\n",
    "- [4] https://socceraction.readthedocs.io/en/latest/documentation/valuing_actions/xT.html"
   ]
  },
  {
   "cell_type": "code",
   "execution_count": 1,
   "metadata": {
    "collapsed": false,
    "jupyter": {
     "outputs_hidden": false
    }
   },
   "outputs": [],
   "source": [
    "# Importando bibliotecas\n",
    "from tqdm import tqdm\n",
    "import numpy as np\n",
    "import pandas as pd\n",
    "import socceraction.spadl as spd\n",
    "from socceraction import xthreat as xt"
   ]
  },
  {
   "cell_type": "markdown",
   "metadata": {},
   "source": [
    "### LaLiga  p/ SPADL com pré-processamentos"
   ]
  },
  {
   "cell_type": "code",
   "execution_count": 2,
   "metadata": {
    "collapsed": false,
    "jupyter": {
     "outputs_hidden": false
    }
   },
   "outputs": [],
   "source": [
    "# carregando os eventos\n",
    "path = '../atv3/events/events_Spain.json'\n",
    "events = pd.read_json(path_or_buf=path)"
   ]
  },
  {
   "cell_type": "code",
   "execution_count": 3,
   "metadata": {
    "collapsed": false,
    "jupyter": {
     "outputs_hidden": false
    }
   },
   "outputs": [],
   "source": [
    "# pré processamento em colunas da tabela de eventos para facilitar a conversão p/ SPADL\n",
    "events = events.rename(columns={'id': 'event_id', 'eventId': 'type_id', 'subEventId': 'subtype_id',\n",
    "                                'teamId': 'team_id', 'playerId': 'player_id', 'matchId': 'game_id'})\n",
    "events['milliseconds'] = events['eventSec'] * 1000\n",
    "events['period_id'] = events['matchPeriod'].replace({'1H': 1, '2H': 2})"
   ]
  },
  {
   "cell_type": "code",
   "execution_count": 4,
   "metadata": {
    "collapsed": false,
    "jupyter": {
     "outputs_hidden": false
    }
   },
   "outputs": [],
   "source": [
    "# carregando as partidas, pois vamos saber quais times jogam em casa e fora p/ usar como parametro do SPADL\n",
    "path = r'../atv3/matches/matches_Spain.json'\n",
    "matches = pd.read_json(path_or_buf=path)"
   ]
  },
  {
   "cell_type": "code",
   "execution_count": 5,
   "metadata": {
    "collapsed": false,
    "jupyter": {
     "outputs_hidden": false
    }
   },
   "outputs": [
    {
     "name": "stderr",
     "output_type": "stream",
     "text": [
      "100%|███████████████████████████████████████| 380/380 [00:00<00:00, 2291.68it/s]\n"
     ]
    }
   ],
   "source": [
    "# as informações dos times de cada partida estão em um dicionário dentro da coluna 'teamsData', então vamos separar essas informações\n",
    "team_matches = []\n",
    "for i in tqdm(range(len(matches))):\n",
    "    match = pd.DataFrame(matches.loc[i, 'teamsData']).T\n",
    "    match['matchId'] = matches.loc[i, 'wyId']\n",
    "    team_matches.append(match)\n",
    "team_matches = pd.concat(team_matches).reset_index(drop=True)"
   ]
  },
  {
   "cell_type": "code",
   "execution_count": 6,
   "metadata": {
    "collapsed": false,
    "jupyter": {
     "outputs_hidden": false
    }
   },
   "outputs": [
    {
     "name": "stderr",
     "output_type": "stream",
     "text": [
      "100%|█████████████████████████████████████████| 380/380 [01:50<00:00,  3.44it/s]\n"
     ]
    }
   ],
   "source": [
    "# fazendo a conversão p/ SPADL, padronizando a direção de jogo da esquerda p/ a direita e adicionando os nomes dos tipos de ações\n",
    "spadl = []\n",
    "game_ids = events.game_id.unique().tolist()\n",
    "for g in tqdm(game_ids):\n",
    "    match_events = events.loc[events.game_id == g]\n",
    "    match_home_id = team_matches.loc[(team_matches.matchId == g) & (team_matches.side == 'home'), 'teamId'].values[0]\n",
    "    match_actions = spd.wyscout.convert_to_actions(events=match_events, home_team_id=match_home_id)\n",
    "    match_actions = spd.play_left_to_right(actions=match_actions, home_team_id=match_home_id)\n",
    "    match_actions = spd.add_names(match_actions)\n",
    "    spadl.append(match_actions)\n",
    "spadl = pd.concat(spadl).reset_index(drop=True)"
   ]
  },
  {
   "cell_type": "code",
   "execution_count": 7,
   "metadata": {
    "collapsed": false,
    "jupyter": {
     "outputs_hidden": false
    }
   },
   "outputs": [],
   "source": [
    "# adicionando o nome dos jogadores\n",
    "path = '../atv3/players.json'\n",
    "players = pd.read_json(path_or_buf=path)\n",
    "players['player_name'] = players['firstName'] + ' ' + players['lastName']\n",
    "players = players[['wyId', 'player_name']].rename(columns={'wyId': 'player_id'})\n",
    "spadl = spadl.merge(players, on='player_id', how='left')"
   ]
  },
  {
   "cell_type": "markdown",
   "metadata": {},
   "source": [
    "## Questão 1\n",
    "- Crei um dataframe \"shots\" à partir do dataframe \"spadl\", contendo apenas os chutes.\n",
    "- Crie 4 colunas no dataframe \"shots\" a serem usadas como features de um modelo de xG.\n",
    "- Justifique a escolha das features."
   ]
  },
  {
   "cell_type": "markdown",
   "metadata": {},
   "source": [
    "As features que eu irei utilizar são:\n",
    "\n",
    "- Ângulo do Chute\n",
    "- Distância do Chute\n",
    "- Parte do Corpo\n",
    "- Tipo da Ação\n",
    "\n",
    "Irei utilizar ângulo e distância ao invés de utilizar as coordenadas pois acredito que será mais fácil para o modelo fazer previsões baseado nessas duas informações. Elas são equivalentes, então nenhuma informação será perdida e, dessa forma, expressamos o posicionamento da ação em relação ao gol.\n",
    "\n",
    "A parte do corpo é obviamente uma feature interessante. Finalizações de longa distância feitas com a cabeça por exemplo, tem baixas chances de sucesso. Não irei adicionar essa coluna ao dataset pois a coluna bodypart_id já possui essa informação exatamente como irei utilizá-la no modelo. A mesma lógica se aplica para a feature de tipo da ação."
   ]
  },
  {
   "cell_type": "code",
   "execution_count": 68,
   "metadata": {
    "collapsed": true,
    "jupyter": {
     "outputs_hidden": true
    },
    "tags": []
   },
   "outputs": [
    {
     "name": "stderr",
     "output_type": "stream",
     "text": [
      "/tmp/ipykernel_6273/1066793986.py:3: SettingWithCopyWarning: \n",
      "A value is trying to be set on a copy of a slice from a DataFrame.\n",
      "Try using .loc[row_indexer,col_indexer] = value instead\n",
      "\n",
      "See the caveats in the documentation: https://pandas.pydata.org/pandas-docs/stable/user_guide/indexing.html#returning-a-view-versus-a-copy\n",
      "  shots.loc[:,'player_name'] = shots.loc[:,'player_name'].str.decode('unicode-escape')\n"
     ]
    }
   ],
   "source": [
    "shots = spadl[(spadl['type_name'] == 'shot') | (spadl['type_name'] == 'shot_freekick') | (spadl['type_name'] == 'shot_penalty') ]\n",
    "# Consertando os Player Names\n",
    "shots.loc[:,'player_name'] = shots.loc[:,'player_name'].str.decode('unicode-escape')"
   ]
  },
  {
   "cell_type": "code",
   "execution_count": 69,
   "metadata": {},
   "outputs": [],
   "source": [
    "import math\n",
    "\n",
    "def calculate_angle_distance(point1, point2):\n",
    "    x1, y1 = point1\n",
    "    x2, y2 = point2\n",
    "\n",
    "    # Calculate the angle\n",
    "    dx = x2 - x1\n",
    "    dy = y2 - y1\n",
    "    angle = math.atan2(dy, dx)  # Angle in radians\n",
    "\n",
    "    # Calculate the distance\n",
    "    distance = math.sqrt(dx**2 + dy**2)\n",
    "\n",
    "    # Convert the angle to degrees\n",
    "    angle_degrees = math.degrees(angle)\n",
    "\n",
    "    return angle_degrees, distance"
   ]
  },
  {
   "cell_type": "code",
   "execution_count": 71,
   "metadata": {
    "collapsed": true,
    "jupyter": {
     "outputs_hidden": true
    },
    "tags": []
   },
   "outputs": [
    {
     "name": "stderr",
     "output_type": "stream",
     "text": [
      "/tmp/ipykernel_6273/2158197141.py:18: SettingWithCopyWarning: \n",
      "A value is trying to be set on a copy of a slice from a DataFrame.\n",
      "Try using .loc[row_indexer,col_indexer] = value instead\n",
      "\n",
      "See the caveats in the documentation: https://pandas.pydata.org/pandas-docs/stable/user_guide/indexing.html#returning-a-view-versus-a-copy\n",
      "  shots.loc[:,'angle'] = angle\n",
      "/tmp/ipykernel_6273/2158197141.py:19: SettingWithCopyWarning: \n",
      "A value is trying to be set on a copy of a slice from a DataFrame.\n",
      "Try using .loc[row_indexer,col_indexer] = value instead\n",
      "\n",
      "See the caveats in the documentation: https://pandas.pydata.org/pandas-docs/stable/user_guide/indexing.html#returning-a-view-versus-a-copy\n",
      "  shots.loc[:,'dist']  = dist\n",
      "/tmp/ipykernel_6273/2158197141.py:20: SettingWithCopyWarning: \n",
      "A value is trying to be set on a copy of a slice from a DataFrame.\n",
      "Try using .loc[row_indexer,col_indexer] = value instead\n",
      "\n",
      "See the caveats in the documentation: https://pandas.pydata.org/pandas-docs/stable/user_guide/indexing.html#returning-a-view-versus-a-copy\n",
      "  shots.loc[:,'goal']  = goal\n"
     ]
    }
   ],
   "source": [
    "# Já vou calcular a coluna binária de sucesso aqui\n",
    "\n",
    "actions = list(spadl['type_name'].unique())\n",
    "goal_point = [105, 34] # Coordenadas do Gol\n",
    "\n",
    "angle = [0 for i in range(len(shots))]\n",
    "dist  = [0 for i in range(len(shots))]\n",
    "goal  = [0 for i in range(len(shots))]\n",
    "\n",
    "shots.reset_index(inplace=True)\n",
    "for i in shots.index:\n",
    "    x = shots['start_x'][i]\n",
    "    y = shots['start_y'][i]\n",
    "    if(shots['result_name'][i] == 'success'):\n",
    "        goal[i] = 1\n",
    "    angle[i], dist[i] = calculate_angle_distance(goal_point, [x,y])\n",
    "    \n",
    "shots.loc[:,'angle'] = angle\n",
    "shots.loc[:,'dist']  = dist\n",
    "shots.loc[:,'goal']  = goal"
   ]
  },
  {
   "cell_type": "markdown",
   "metadata": {},
   "source": [
    "Quanto à esses warnings, eu tentei fazer exatamente como eles recomendaram e eles continuam, então só colapsei eles."
   ]
  },
  {
   "cell_type": "markdown",
   "metadata": {},
   "source": [
    "## Questão 2\n",
    "- Crie uma coluna numérica binária \"goal\" no dataframe \"shots\" indicando se o chute resultou em gol ou não.\n",
    "- Use regressão logística [1] p/ treinar (.fit(X_train, y_train)) um modelo de xG usando as features criadas na questão 1.\n",
    "- Use 70% dos dados para treino e 30% para teste.\n",
    "- Reporte a acurácia do modelo para os conjuntos de treino (.score(X_train, y_train)) e teste (.score(X_test, y_test))."
   ]
  },
  {
   "cell_type": "code",
   "execution_count": 60,
   "metadata": {
    "collapsed": false,
    "jupyter": {
     "outputs_hidden": false
    }
   },
   "outputs": [
    {
     "name": "stdout",
     "output_type": "stream",
     "text": [
      "Score de Treino:\n",
      "0.8899849523491055\n",
      "Score de Teste:\n",
      "0.8841653666146646\n"
     ]
    }
   ],
   "source": [
    "from sklearn.linear_model import LogisticRegression\n",
    "from sklearn.model_selection import train_test_split\n",
    "from sklearn.metrics import accuracy_score\n",
    "\n",
    "X = shots[['bodypart_id', 'type_id', 'angle', 'dist']]  # Features\n",
    "y = shots['goal']  # Objetivo\n",
    "\n",
    "# Dividindo entre treino e teste\n",
    "X_train, X_test, y_train, y_test = train_test_split(X, y, test_size=0.3, random_state=42)\n",
    "\n",
    "# Treinando\n",
    "logreg = LogisticRegression()\n",
    "logreg.fit(X_train, y_train)\n",
    "\n",
    "print(\"Score de Treino:\")\n",
    "print(logreg.score(X_train, y_train))\n",
    "\n",
    "print(\"Score de Teste:\")\n",
    "print(logreg.score(X_test, y_test))"
   ]
  },
  {
   "cell_type": "markdown",
   "metadata": {},
   "source": [
    "## Questão 3\n",
    "- Use o modelo treinado na questão 2 p/ prever a probabilidade de gol de todos os chutes do dataframe \"shots\". Reporte essas probabilidades no dataframe \"shots\" em uma coluna \"xG\".\n",
    "- Agrupe o dataframe \"shots\" por \"player_name\" e reporte a soma dos \"goal\" e \"xG\".\n",
    "- Reporte os 10 jogadores com maior xG.\n",
    "- Reporte os 10 jogadores com maior diferença de Gols e xG."
   ]
  },
  {
   "cell_type": "code",
   "execution_count": 72,
   "metadata": {
    "collapsed": true,
    "jupyter": {
     "outputs_hidden": true
    },
    "tags": []
   },
   "outputs": [
    {
     "name": "stderr",
     "output_type": "stream",
     "text": [
      "/tmp/ipykernel_6273/2671096498.py:2: SettingWithCopyWarning: \n",
      "A value is trying to be set on a copy of a slice from a DataFrame.\n",
      "Try using .loc[row_indexer,col_indexer] = value instead\n",
      "\n",
      "See the caveats in the documentation: https://pandas.pydata.org/pandas-docs/stable/user_guide/indexing.html#returning-a-view-versus-a-copy\n",
      "  shots.loc[:, 'xG'] = preds\n"
     ]
    }
   ],
   "source": [
    "preds = logreg.predict(X)\n",
    "shots.loc[:, 'xG'] = preds"
   ]
  },
  {
   "cell_type": "code",
   "execution_count": 100,
   "metadata": {},
   "outputs": [],
   "source": [
    "shots_player = shots.groupby(['player_name']).sum()\n",
    "shots_player = shots_player[['goal', 'xG']]\n",
    "shots_player['diff'] = [shots_player['goal'][i] - shots_player['xG'][i] for i in shots_player.index]"
   ]
  },
  {
   "cell_type": "markdown",
   "metadata": {},
   "source": [
    "10 jogadores com maior xG:"
   ]
  },
  {
   "cell_type": "code",
   "execution_count": 101,
   "metadata": {},
   "outputs": [
    {
     "data": {
      "text/html": [
       "<div>\n",
       "<style scoped>\n",
       "    .dataframe tbody tr th:only-of-type {\n",
       "        vertical-align: middle;\n",
       "    }\n",
       "\n",
       "    .dataframe tbody tr th {\n",
       "        vertical-align: top;\n",
       "    }\n",
       "\n",
       "    .dataframe thead th {\n",
       "        text-align: right;\n",
       "    }\n",
       "</style>\n",
       "<table border=\"1\" class=\"dataframe\">\n",
       "  <thead>\n",
       "    <tr style=\"text-align: right;\">\n",
       "      <th></th>\n",
       "      <th>goal</th>\n",
       "      <th>xG</th>\n",
       "      <th>diff</th>\n",
       "    </tr>\n",
       "    <tr>\n",
       "      <th>player_name</th>\n",
       "      <th></th>\n",
       "      <th></th>\n",
       "      <th></th>\n",
       "    </tr>\n",
       "  </thead>\n",
       "  <tbody>\n",
       "    <tr>\n",
       "      <th>Cristiano Ronaldo dos Santos Aveiro</th>\n",
       "      <td>26</td>\n",
       "      <td>5</td>\n",
       "      <td>21</td>\n",
       "    </tr>\n",
       "    <tr>\n",
       "      <th>Emmanuel Okyere Boateng</th>\n",
       "      <td>6</td>\n",
       "      <td>4</td>\n",
       "      <td>2</td>\n",
       "    </tr>\n",
       "    <tr>\n",
       "      <th>Luis Alberto Suárez Díaz</th>\n",
       "      <td>25</td>\n",
       "      <td>4</td>\n",
       "      <td>21</td>\n",
       "    </tr>\n",
       "    <tr>\n",
       "      <th>José Paulo Bezzera Maciel Júnior</th>\n",
       "      <td>9</td>\n",
       "      <td>3</td>\n",
       "      <td>6</td>\n",
       "    </tr>\n",
       "    <tr>\n",
       "      <th>Iago Aspas Juncal</th>\n",
       "      <td>22</td>\n",
       "      <td>3</td>\n",
       "      <td>19</td>\n",
       "    </tr>\n",
       "    <tr>\n",
       "      <th>Santiago Mina Lorenzo</th>\n",
       "      <td>12</td>\n",
       "      <td>3</td>\n",
       "      <td>9</td>\n",
       "    </tr>\n",
       "    <tr>\n",
       "      <th>Wissam Ben Yedder</th>\n",
       "      <td>9</td>\n",
       "      <td>3</td>\n",
       "      <td>6</td>\n",
       "    </tr>\n",
       "    <tr>\n",
       "      <th>Karim Benzema</th>\n",
       "      <td>5</td>\n",
       "      <td>3</td>\n",
       "      <td>2</td>\n",
       "    </tr>\n",
       "    <tr>\n",
       "      <th>Gabriel Appelt Pires</th>\n",
       "      <td>5</td>\n",
       "      <td>2</td>\n",
       "      <td>3</td>\n",
       "    </tr>\n",
       "    <tr>\n",
       "      <th>Carlos Arturo Bacca Ahumada</th>\n",
       "      <td>15</td>\n",
       "      <td>2</td>\n",
       "      <td>13</td>\n",
       "    </tr>\n",
       "  </tbody>\n",
       "</table>\n",
       "</div>"
      ],
      "text/plain": [
       "                                     goal  xG  diff\n",
       "player_name                                        \n",
       "Cristiano Ronaldo dos Santos Aveiro    26   5    21\n",
       "Emmanuel Okyere Boateng                 6   4     2\n",
       "Luis Alberto Suárez Díaz               25   4    21\n",
       "José Paulo Bezzera Maciel Júnior        9   3     6\n",
       "Iago Aspas Juncal                      22   3    19\n",
       "Santiago Mina Lorenzo                  12   3     9\n",
       "Wissam Ben Yedder                       9   3     6\n",
       "Karim Benzema                           5   3     2\n",
       "Gabriel Appelt Pires                    5   2     3\n",
       "Carlos Arturo Bacca Ahumada            15   2    13"
      ]
     },
     "metadata": {},
     "output_type": "display_data"
    }
   ],
   "source": [
    "display(shots_player.sort_values(by=\"xG\", ascending=False).head(10))"
   ]
  },
  {
   "cell_type": "markdown",
   "metadata": {},
   "source": [
    "10 jogadores com maior diferença de Gol e xG:"
   ]
  },
  {
   "cell_type": "code",
   "execution_count": 102,
   "metadata": {},
   "outputs": [
    {
     "data": {
      "text/html": [
       "<div>\n",
       "<style scoped>\n",
       "    .dataframe tbody tr th:only-of-type {\n",
       "        vertical-align: middle;\n",
       "    }\n",
       "\n",
       "    .dataframe tbody tr th {\n",
       "        vertical-align: top;\n",
       "    }\n",
       "\n",
       "    .dataframe thead th {\n",
       "        text-align: right;\n",
       "    }\n",
       "</style>\n",
       "<table border=\"1\" class=\"dataframe\">\n",
       "  <thead>\n",
       "    <tr style=\"text-align: right;\">\n",
       "      <th></th>\n",
       "      <th>goal</th>\n",
       "      <th>xG</th>\n",
       "      <th>diff</th>\n",
       "    </tr>\n",
       "    <tr>\n",
       "      <th>player_name</th>\n",
       "      <th></th>\n",
       "      <th></th>\n",
       "      <th></th>\n",
       "    </tr>\n",
       "  </thead>\n",
       "  <tbody>\n",
       "    <tr>\n",
       "      <th>Lionel Andrés Messi Cuccittini</th>\n",
       "      <td>34</td>\n",
       "      <td>1</td>\n",
       "      <td>33</td>\n",
       "    </tr>\n",
       "    <tr>\n",
       "      <th>Luis Alberto Suárez Díaz</th>\n",
       "      <td>25</td>\n",
       "      <td>4</td>\n",
       "      <td>21</td>\n",
       "    </tr>\n",
       "    <tr>\n",
       "      <th>Cristiano Ronaldo dos Santos Aveiro</th>\n",
       "      <td>26</td>\n",
       "      <td>5</td>\n",
       "      <td>21</td>\n",
       "    </tr>\n",
       "    <tr>\n",
       "      <th>Cristhian Ricardo Stuani Curbelo</th>\n",
       "      <td>21</td>\n",
       "      <td>0</td>\n",
       "      <td>21</td>\n",
       "    </tr>\n",
       "    <tr>\n",
       "      <th>Iago Aspas Juncal</th>\n",
       "      <td>22</td>\n",
       "      <td>3</td>\n",
       "      <td>19</td>\n",
       "    </tr>\n",
       "    <tr>\n",
       "      <th>Antoine Griezmann</th>\n",
       "      <td>19</td>\n",
       "      <td>1</td>\n",
       "      <td>18</td>\n",
       "    </tr>\n",
       "    <tr>\n",
       "      <th>Maximiliano Gómez González</th>\n",
       "      <td>18</td>\n",
       "      <td>1</td>\n",
       "      <td>17</td>\n",
       "    </tr>\n",
       "    <tr>\n",
       "      <th>Gareth Frank Bale</th>\n",
       "      <td>16</td>\n",
       "      <td>1</td>\n",
       "      <td>15</td>\n",
       "    </tr>\n",
       "    <tr>\n",
       "      <th>Willian José da Silva</th>\n",
       "      <td>15</td>\n",
       "      <td>0</td>\n",
       "      <td>15</td>\n",
       "    </tr>\n",
       "    <tr>\n",
       "      <th>Rodrigo Moreno Machado</th>\n",
       "      <td>16</td>\n",
       "      <td>2</td>\n",
       "      <td>14</td>\n",
       "    </tr>\n",
       "  </tbody>\n",
       "</table>\n",
       "</div>"
      ],
      "text/plain": [
       "                                     goal  xG  diff\n",
       "player_name                                        \n",
       "Lionel Andrés Messi Cuccittini         34   1    33\n",
       "Luis Alberto Suárez Díaz               25   4    21\n",
       "Cristiano Ronaldo dos Santos Aveiro    26   5    21\n",
       "Cristhian Ricardo Stuani Curbelo       21   0    21\n",
       "Iago Aspas Juncal                      22   3    19\n",
       "Antoine Griezmann                      19   1    18\n",
       "Maximiliano Gómez González             18   1    17\n",
       "Gareth Frank Bale                      16   1    15\n",
       "Willian José da Silva                  15   0    15\n",
       "Rodrigo Moreno Machado                 16   2    14"
      ]
     },
     "metadata": {},
     "output_type": "display_data"
    }
   ],
   "source": [
    "display(shots_player.sort_values(by=\"diff\", ascending=False).head(10))"
   ]
  },
  {
   "cell_type": "markdown",
   "metadata": {},
   "source": [
    "Esses 10 primeiros jogadores dão uma falsa noção de que o modelo na verdade é muito ruim mas eu chequei a acurácia manualmente e a acurácia reportada está correta."
   ]
  },
  {
   "cell_type": "markdown",
   "metadata": {},
   "source": [
    "## Questão 4 [4]\n",
    "- Instancie um objeto ExpectedThreat [2] com parâmetros l=25 e w=16.\n",
    "- Faça o fit do modelo ExpectedThreat com o dataframe \"spadl\"."
   ]
  },
  {
   "cell_type": "code",
   "execution_count": 106,
   "metadata": {},
   "outputs": [],
   "source": [
    "def correct_error(a, b):\n",
    "    return np.nan_to_num(a/b)"
   ]
  },
  {
   "cell_type": "code",
   "execution_count": 111,
   "metadata": {
    "collapsed": true,
    "jupyter": {
     "outputs_hidden": true
    },
    "tags": []
   },
   "outputs": [
    {
     "name": "stderr",
     "output_type": "stream",
     "text": [
      "/tmp/ipykernel_6273/4150581885.py:2: RuntimeWarning: invalid value encountered in true_divide\n",
      "  return np.nan_to_num(a/b)\n"
     ]
    },
    {
     "name": "stdout",
     "output_type": "stream",
     "text": [
      "# iterations:  30\n"
     ]
    },
    {
     "data": {
      "text/plain": [
       "<socceraction.xthreat.ExpectedThreat at 0x7f504d8e1160>"
      ]
     },
     "execution_count": 111,
     "metadata": {},
     "output_type": "execute_result"
    }
   ],
   "source": [
    "import socceraction.xthreat as xthreat\n",
    "xthreat._safe_divide = correct_error\n",
    "xTModel = xthreat.ExpectedThreat(l=25, w=16)\n",
    "xTModel.fit(spadl)"
   ]
  },
  {
   "cell_type": "markdown",
   "metadata": {},
   "source": [
    "## Questão 5\n",
    "- Crie um dataframe \"prog_actions\" à partir do dataframe \"spadl\", contendo apenas as ações de progressão e que são bem-sucedidas [3].\n",
    "- Use o método rate do objeto ExpectedThreat p/ calcular o valor de cada ação de progressão do dataframe \"prog_actions\", em uma coluna chamada \"action_value\".\n",
    "- Agrupe o dataframe \"prog_actions\" por \"player_name\" e reporte a soma dos \"action_value\".\n",
    "- Reporte os 10 jogadores com maior \"action_value\"."
   ]
  },
  {
   "cell_type": "code",
   "execution_count": 112,
   "metadata": {
    "collapsed": false,
    "jupyter": {
     "outputs_hidden": false
    }
   },
   "outputs": [],
   "source": [
    "prog_actions = xthreat.get_successful_move_actions(spadl)\n",
    "prog_actions[\"action_value\"] = xTModel.rate(prog_actions)\n",
    "prog_actions['player_name'] = prog_actions['player_name'].str.decode('unicode-escape')"
   ]
  },
  {
   "cell_type": "code",
   "execution_count": 119,
   "metadata": {},
   "outputs": [
    {
     "data": {
      "text/html": [
       "<div>\n",
       "<style scoped>\n",
       "    .dataframe tbody tr th:only-of-type {\n",
       "        vertical-align: middle;\n",
       "    }\n",
       "\n",
       "    .dataframe tbody tr th {\n",
       "        vertical-align: top;\n",
       "    }\n",
       "\n",
       "    .dataframe thead th {\n",
       "        text-align: right;\n",
       "    }\n",
       "</style>\n",
       "<table border=\"1\" class=\"dataframe\">\n",
       "  <thead>\n",
       "    <tr style=\"text-align: right;\">\n",
       "      <th></th>\n",
       "      <th>game_id</th>\n",
       "      <th>period_id</th>\n",
       "      <th>time_seconds</th>\n",
       "      <th>team_id</th>\n",
       "      <th>player_id</th>\n",
       "      <th>start_x</th>\n",
       "      <th>start_y</th>\n",
       "      <th>end_x</th>\n",
       "      <th>end_y</th>\n",
       "      <th>bodypart_id</th>\n",
       "      <th>type_id</th>\n",
       "      <th>result_id</th>\n",
       "      <th>action_id</th>\n",
       "      <th>action_value</th>\n",
       "    </tr>\n",
       "    <tr>\n",
       "      <th>player_name</th>\n",
       "      <th></th>\n",
       "      <th></th>\n",
       "      <th></th>\n",
       "      <th></th>\n",
       "      <th></th>\n",
       "      <th></th>\n",
       "      <th></th>\n",
       "      <th></th>\n",
       "      <th></th>\n",
       "      <th></th>\n",
       "      <th></th>\n",
       "      <th></th>\n",
       "      <th></th>\n",
       "      <th></th>\n",
       "    </tr>\n",
       "  </thead>\n",
       "  <tbody>\n",
       "    <tr>\n",
       "      <th>Aarón Martín Caricol</th>\n",
       "      <td>2468213376</td>\n",
       "      <td>1402</td>\n",
       "      <td>1.293765e+06</td>\n",
       "      <td>664742</td>\n",
       "      <td>271705356</td>\n",
       "      <td>51378.60</td>\n",
       "      <td>56806.0984</td>\n",
       "      <td>53069.10</td>\n",
       "      <td>49846.72</td>\n",
       "      <td>44</td>\n",
       "      <td>2731</td>\n",
       "      <td>962</td>\n",
       "      <td>581574</td>\n",
       "      <td>5.578629</td>\n",
       "    </tr>\n",
       "    <tr>\n",
       "      <th>Achraf Hakimi Mouh</th>\n",
       "      <td>1069923190</td>\n",
       "      <td>624</td>\n",
       "      <td>5.679448e+05</td>\n",
       "      <td>281475</td>\n",
       "      <td>165330075</td>\n",
       "      <td>23482.20</td>\n",
       "      <td>3345.6000</td>\n",
       "      <td>23990.40</td>\n",
       "      <td>6433.48</td>\n",
       "      <td>7</td>\n",
       "      <td>1205</td>\n",
       "      <td>417</td>\n",
       "      <td>289922</td>\n",
       "      <td>1.369938</td>\n",
       "    </tr>\n",
       "    <tr>\n",
       "      <th>Adalberto Peñaranda Maestre</th>\n",
       "      <td>679901692</td>\n",
       "      <td>372</td>\n",
       "      <td>3.208078e+05</td>\n",
       "      <td>180995</td>\n",
       "      <td>68885690</td>\n",
       "      <td>17405.85</td>\n",
       "      <td>8347.0000</td>\n",
       "      <td>17175.90</td>\n",
       "      <td>8311.64</td>\n",
       "      <td>2</td>\n",
       "      <td>1660</td>\n",
       "      <td>265</td>\n",
       "      <td>142549</td>\n",
       "      <td>0.251660</td>\n",
       "    </tr>\n",
       "    <tr>\n",
       "      <th>Adnan Januzaj</th>\n",
       "      <td>1444521348</td>\n",
       "      <td>838</td>\n",
       "      <td>7.299608e+05</td>\n",
       "      <td>386781</td>\n",
       "      <td>147014501</td>\n",
       "      <td>38528.70</td>\n",
       "      <td>16244.5200</td>\n",
       "      <td>39756.15</td>\n",
       "      <td>17880.60</td>\n",
       "      <td>0</td>\n",
       "      <td>3651</td>\n",
       "      <td>563</td>\n",
       "      <td>344545</td>\n",
       "      <td>4.142670</td>\n",
       "    </tr>\n",
       "    <tr>\n",
       "      <th>Adrián  González Morales</th>\n",
       "      <td>2370742044</td>\n",
       "      <td>1383</td>\n",
       "      <td>1.271137e+06</td>\n",
       "      <td>631092</td>\n",
       "      <td>3423420</td>\n",
       "      <td>48683.25</td>\n",
       "      <td>36403.8000</td>\n",
       "      <td>51000.60</td>\n",
       "      <td>36999.48</td>\n",
       "      <td>64</td>\n",
       "      <td>2020</td>\n",
       "      <td>924</td>\n",
       "      <td>569638</td>\n",
       "      <td>1.053695</td>\n",
       "    </tr>\n",
       "    <tr>\n",
       "      <th>...</th>\n",
       "      <td>...</td>\n",
       "      <td>...</td>\n",
       "      <td>...</td>\n",
       "      <td>...</td>\n",
       "      <td>...</td>\n",
       "      <td>...</td>\n",
       "      <td>...</td>\n",
       "      <td>...</td>\n",
       "      <td>...</td>\n",
       "      <td>...</td>\n",
       "      <td>...</td>\n",
       "      <td>...</td>\n",
       "      <td>...</td>\n",
       "      <td>...</td>\n",
       "    </tr>\n",
       "    <tr>\n",
       "      <th>Óscar David Romero Villamayor</th>\n",
       "      <td>130844162</td>\n",
       "      <td>90</td>\n",
       "      <td>8.737077e+04</td>\n",
       "      <td>35496</td>\n",
       "      <td>5816805</td>\n",
       "      <td>2909.55</td>\n",
       "      <td>1049.9200</td>\n",
       "      <td>2949.45</td>\n",
       "      <td>1146.48</td>\n",
       "      <td>7</td>\n",
       "      <td>253</td>\n",
       "      <td>51</td>\n",
       "      <td>40836</td>\n",
       "      <td>0.088822</td>\n",
       "    </tr>\n",
       "    <tr>\n",
       "      <th>Óscar Esau Duarte Gaitán</th>\n",
       "      <td>992956972</td>\n",
       "      <td>548</td>\n",
       "      <td>4.917586e+05</td>\n",
       "      <td>267417</td>\n",
       "      <td>48471750</td>\n",
       "      <td>13215.30</td>\n",
       "      <td>13556.4800</td>\n",
       "      <td>16352.70</td>\n",
       "      <td>14122.92</td>\n",
       "      <td>24</td>\n",
       "      <td>337</td>\n",
       "      <td>387</td>\n",
       "      <td>219093</td>\n",
       "      <td>1.011419</td>\n",
       "    </tr>\n",
       "    <tr>\n",
       "      <th>Óscar Melendo Jiménez</th>\n",
       "      <td>659415050</td>\n",
       "      <td>417</td>\n",
       "      <td>3.702676e+05</td>\n",
       "      <td>177587</td>\n",
       "      <td>115851488</td>\n",
       "      <td>15377.25</td>\n",
       "      <td>7828.1600</td>\n",
       "      <td>15527.40</td>\n",
       "      <td>8402.76</td>\n",
       "      <td>5</td>\n",
       "      <td>800</td>\n",
       "      <td>257</td>\n",
       "      <td>184289</td>\n",
       "      <td>0.317399</td>\n",
       "    </tr>\n",
       "    <tr>\n",
       "      <th>Óscar de Marcos Arana</th>\n",
       "      <td>1657517693</td>\n",
       "      <td>977</td>\n",
       "      <td>8.631285e+05</td>\n",
       "      <td>437988</td>\n",
       "      <td>2209966</td>\n",
       "      <td>38771.25</td>\n",
       "      <td>6366.1600</td>\n",
       "      <td>39805.50</td>\n",
       "      <td>10733.80</td>\n",
       "      <td>34</td>\n",
       "      <td>1497</td>\n",
       "      <td>646</td>\n",
       "      <td>391853</td>\n",
       "      <td>2.742232</td>\n",
       "    </tr>\n",
       "    <tr>\n",
       "      <th>Šime Vrsaljko</th>\n",
       "      <td>1457364388</td>\n",
       "      <td>837</td>\n",
       "      <td>7.331515e+05</td>\n",
       "      <td>385672</td>\n",
       "      <td>39424312</td>\n",
       "      <td>32364.15</td>\n",
       "      <td>7834.9600</td>\n",
       "      <td>32949.00</td>\n",
       "      <td>11291.40</td>\n",
       "      <td>40</td>\n",
       "      <td>1409</td>\n",
       "      <td>568</td>\n",
       "      <td>360660</td>\n",
       "      <td>3.160489</td>\n",
       "    </tr>\n",
       "  </tbody>\n",
       "</table>\n",
       "<p>556 rows × 14 columns</p>\n",
       "</div>"
      ],
      "text/plain": [
       "                                  game_id  period_id  time_seconds  team_id  \\\n",
       "player_name                                                                   \n",
       "Aarón Martín Caricol           2468213376       1402  1.293765e+06   664742   \n",
       "Achraf Hakimi Mouh             1069923190        624  5.679448e+05   281475   \n",
       "Adalberto Peñaranda Maestre     679901692        372  3.208078e+05   180995   \n",
       "Adnan Januzaj                  1444521348        838  7.299608e+05   386781   \n",
       "Adrián  González Morales       2370742044       1383  1.271137e+06   631092   \n",
       "...                                   ...        ...           ...      ...   \n",
       "Óscar David Romero Villamayor   130844162         90  8.737077e+04    35496   \n",
       "Óscar Esau Duarte Gaitán        992956972        548  4.917586e+05   267417   \n",
       "Óscar Melendo Jiménez           659415050        417  3.702676e+05   177587   \n",
       "Óscar de Marcos Arana          1657517693        977  8.631285e+05   437988   \n",
       "Šime Vrsaljko                  1457364388        837  7.331515e+05   385672   \n",
       "\n",
       "                               player_id   start_x     start_y     end_x  \\\n",
       "player_name                                                                \n",
       "Aarón Martín Caricol           271705356  51378.60  56806.0984  53069.10   \n",
       "Achraf Hakimi Mouh             165330075  23482.20   3345.6000  23990.40   \n",
       "Adalberto Peñaranda Maestre     68885690  17405.85   8347.0000  17175.90   \n",
       "Adnan Januzaj                  147014501  38528.70  16244.5200  39756.15   \n",
       "Adrián  González Morales         3423420  48683.25  36403.8000  51000.60   \n",
       "...                                  ...       ...         ...       ...   \n",
       "Óscar David Romero Villamayor    5816805   2909.55   1049.9200   2949.45   \n",
       "Óscar Esau Duarte Gaitán        48471750  13215.30  13556.4800  16352.70   \n",
       "Óscar Melendo Jiménez          115851488  15377.25   7828.1600  15527.40   \n",
       "Óscar de Marcos Arana            2209966  38771.25   6366.1600  39805.50   \n",
       "Šime Vrsaljko                   39424312  32364.15   7834.9600  32949.00   \n",
       "\n",
       "                                  end_y  bodypart_id  type_id  result_id  \\\n",
       "player_name                                                                \n",
       "Aarón Martín Caricol           49846.72           44     2731        962   \n",
       "Achraf Hakimi Mouh              6433.48            7     1205        417   \n",
       "Adalberto Peñaranda Maestre     8311.64            2     1660        265   \n",
       "Adnan Januzaj                  17880.60            0     3651        563   \n",
       "Adrián  González Morales       36999.48           64     2020        924   \n",
       "...                                 ...          ...      ...        ...   \n",
       "Óscar David Romero Villamayor   1146.48            7      253         51   \n",
       "Óscar Esau Duarte Gaitán       14122.92           24      337        387   \n",
       "Óscar Melendo Jiménez           8402.76            5      800        257   \n",
       "Óscar de Marcos Arana          10733.80           34     1497        646   \n",
       "Šime Vrsaljko                  11291.40           40     1409        568   \n",
       "\n",
       "                               action_id  action_value  \n",
       "player_name                                             \n",
       "Aarón Martín Caricol              581574      5.578629  \n",
       "Achraf Hakimi Mouh                289922      1.369938  \n",
       "Adalberto Peñaranda Maestre       142549      0.251660  \n",
       "Adnan Januzaj                     344545      4.142670  \n",
       "Adrián  González Morales          569638      1.053695  \n",
       "...                                  ...           ...  \n",
       "Óscar David Romero Villamayor      40836      0.088822  \n",
       "Óscar Esau Duarte Gaitán          219093      1.011419  \n",
       "Óscar Melendo Jiménez             184289      0.317399  \n",
       "Óscar de Marcos Arana             391853      2.742232  \n",
       "Šime Vrsaljko                     360660      3.160489  \n",
       "\n",
       "[556 rows x 14 columns]"
      ]
     },
     "execution_count": 119,
     "metadata": {},
     "output_type": "execute_result"
    }
   ],
   "source": [
    "prog_actions_players = prog_actions.groupby('player_name').sum()\n",
    "prog_actions_players"
   ]
  },
  {
   "cell_type": "markdown",
   "metadata": {},
   "source": [
    "10 jogadores com maior \"action_value\""
   ]
  },
  {
   "cell_type": "code",
   "execution_count": 120,
   "metadata": {},
   "outputs": [
    {
     "data": {
      "text/html": [
       "<div>\n",
       "<style scoped>\n",
       "    .dataframe tbody tr th:only-of-type {\n",
       "        vertical-align: middle;\n",
       "    }\n",
       "\n",
       "    .dataframe tbody tr th {\n",
       "        vertical-align: top;\n",
       "    }\n",
       "\n",
       "    .dataframe thead th {\n",
       "        text-align: right;\n",
       "    }\n",
       "</style>\n",
       "<table border=\"1\" class=\"dataframe\">\n",
       "  <thead>\n",
       "    <tr style=\"text-align: right;\">\n",
       "      <th></th>\n",
       "      <th>game_id</th>\n",
       "      <th>period_id</th>\n",
       "      <th>time_seconds</th>\n",
       "      <th>team_id</th>\n",
       "      <th>player_id</th>\n",
       "      <th>start_x</th>\n",
       "      <th>start_y</th>\n",
       "      <th>end_x</th>\n",
       "      <th>end_y</th>\n",
       "      <th>bodypart_id</th>\n",
       "      <th>type_id</th>\n",
       "      <th>result_id</th>\n",
       "      <th>action_id</th>\n",
       "      <th>action_value</th>\n",
       "    </tr>\n",
       "    <tr>\n",
       "      <th>player_name</th>\n",
       "      <th></th>\n",
       "      <th></th>\n",
       "      <th></th>\n",
       "      <th></th>\n",
       "      <th></th>\n",
       "      <th></th>\n",
       "      <th></th>\n",
       "      <th></th>\n",
       "      <th></th>\n",
       "      <th></th>\n",
       "      <th></th>\n",
       "      <th></th>\n",
       "      <th></th>\n",
       "      <th></th>\n",
       "    </tr>\n",
       "  </thead>\n",
       "  <tbody>\n",
       "    <tr>\n",
       "      <th>Lionel Andrés Messi Cuccittini</th>\n",
       "      <td>4705538769</td>\n",
       "      <td>2778</td>\n",
       "      <td>2.577345e+06</td>\n",
       "      <td>1239784</td>\n",
       "      <td>6160406</td>\n",
       "      <td>124407.15</td>\n",
       "      <td>52640.16</td>\n",
       "      <td>132844.95</td>\n",
       "      <td>59429.28</td>\n",
       "      <td>14</td>\n",
       "      <td>7463</td>\n",
       "      <td>1834</td>\n",
       "      <td>1317903</td>\n",
       "      <td>10.650189</td>\n",
       "    </tr>\n",
       "    <tr>\n",
       "      <th>Marcelo Vieira da Silva Júnior</th>\n",
       "      <td>3979456219</td>\n",
       "      <td>2338</td>\n",
       "      <td>2.161144e+06</td>\n",
       "      <td>1046925</td>\n",
       "      <td>5133810</td>\n",
       "      <td>93085.65</td>\n",
       "      <td>90968.36</td>\n",
       "      <td>101014.20</td>\n",
       "      <td>79523.28</td>\n",
       "      <td>27</td>\n",
       "      <td>3528</td>\n",
       "      <td>1551</td>\n",
       "      <td>1087920</td>\n",
       "      <td>10.264535</td>\n",
       "    </tr>\n",
       "    <tr>\n",
       "      <th>Álvaro Odriozola Arzallus</th>\n",
       "      <td>3753649494</td>\n",
       "      <td>2169</td>\n",
       "      <td>1.934327e+06</td>\n",
       "      <td>1005081</td>\n",
       "      <td>407136807</td>\n",
       "      <td>86065.35</td>\n",
       "      <td>11475.68</td>\n",
       "      <td>85872.15</td>\n",
       "      <td>21035.80</td>\n",
       "      <td>38</td>\n",
       "      <td>4993</td>\n",
       "      <td>1463</td>\n",
       "      <td>904555</td>\n",
       "      <td>8.708854</td>\n",
       "    </tr>\n",
       "    <tr>\n",
       "      <th>José Luis Morales Nogales</th>\n",
       "      <td>2242465244</td>\n",
       "      <td>1344</td>\n",
       "      <td>1.238712e+06</td>\n",
       "      <td>607430</td>\n",
       "      <td>196727786</td>\n",
       "      <td>56079.45</td>\n",
       "      <td>27190.48</td>\n",
       "      <td>59961.30</td>\n",
       "      <td>28331.52</td>\n",
       "      <td>11</td>\n",
       "      <td>5481</td>\n",
       "      <td>874</td>\n",
       "      <td>550756</td>\n",
       "      <td>7.819040</td>\n",
       "    </tr>\n",
       "    <tr>\n",
       "      <th>Hugo Mallo Novegil</th>\n",
       "      <td>3915316318</td>\n",
       "      <td>2268</td>\n",
       "      <td>2.024664e+06</td>\n",
       "      <td>1055992</td>\n",
       "      <td>5840002</td>\n",
       "      <td>77569.80</td>\n",
       "      <td>16677.00</td>\n",
       "      <td>82930.05</td>\n",
       "      <td>28213.88</td>\n",
       "      <td>97</td>\n",
       "      <td>3421</td>\n",
       "      <td>1526</td>\n",
       "      <td>944856</td>\n",
       "      <td>7.431915</td>\n",
       "    </tr>\n",
       "    <tr>\n",
       "      <th>Juan Francisco Moreno Fuertes</th>\n",
       "      <td>3474013972</td>\n",
       "      <td>2053</td>\n",
       "      <td>1.867470e+06</td>\n",
       "      <td>916658</td>\n",
       "      <td>4502050</td>\n",
       "      <td>71543.85</td>\n",
       "      <td>12923.40</td>\n",
       "      <td>79160.55</td>\n",
       "      <td>21790.60</td>\n",
       "      <td>68</td>\n",
       "      <td>4254</td>\n",
       "      <td>1354</td>\n",
       "      <td>875393</td>\n",
       "      <td>7.281309</td>\n",
       "    </tr>\n",
       "    <tr>\n",
       "      <th>Éver Maximiliano David Banega</th>\n",
       "      <td>5123809747</td>\n",
       "      <td>3023</td>\n",
       "      <td>2.685928e+06</td>\n",
       "      <td>1357960</td>\n",
       "      <td>6550160</td>\n",
       "      <td>105353.85</td>\n",
       "      <td>72857.24</td>\n",
       "      <td>118285.65</td>\n",
       "      <td>70945.08</td>\n",
       "      <td>23</td>\n",
       "      <td>4606</td>\n",
       "      <td>1997</td>\n",
       "      <td>1324517</td>\n",
       "      <td>7.015160</td>\n",
       "    </tr>\n",
       "    <tr>\n",
       "      <th>Lucas Vázquez Iglesias</th>\n",
       "      <td>2339977112</td>\n",
       "      <td>1469</td>\n",
       "      <td>1.397931e+06</td>\n",
       "      <td>615600</td>\n",
       "      <td>4102176</td>\n",
       "      <td>59982.30</td>\n",
       "      <td>13984.88</td>\n",
       "      <td>59226.30</td>\n",
       "      <td>20553.68</td>\n",
       "      <td>15</td>\n",
       "      <td>2642</td>\n",
       "      <td>912</td>\n",
       "      <td>723666</td>\n",
       "      <td>6.908507</td>\n",
       "    </tr>\n",
       "    <tr>\n",
       "      <th>Jordi Alba Ramos</th>\n",
       "      <td>4895416848</td>\n",
       "      <td>2785</td>\n",
       "      <td>2.491619e+06</td>\n",
       "      <td>1289808</td>\n",
       "      <td>6237252</td>\n",
       "      <td>107337.30</td>\n",
       "      <td>111709.04</td>\n",
       "      <td>108414.60</td>\n",
       "      <td>95475.40</td>\n",
       "      <td>41</td>\n",
       "      <td>2209</td>\n",
       "      <td>1908</td>\n",
       "      <td>1246334</td>\n",
       "      <td>6.824937</td>\n",
       "    </tr>\n",
       "    <tr>\n",
       "      <th>José Luis Gayá Peña</th>\n",
       "      <td>3289278923</td>\n",
       "      <td>1855</td>\n",
       "      <td>1.684123e+06</td>\n",
       "      <td>864068</td>\n",
       "      <td>6271544</td>\n",
       "      <td>66810.45</td>\n",
       "      <td>74368.20</td>\n",
       "      <td>70629.30</td>\n",
       "      <td>64261.36</td>\n",
       "      <td>41</td>\n",
       "      <td>2652</td>\n",
       "      <td>1282</td>\n",
       "      <td>765194</td>\n",
       "      <td>6.811350</td>\n",
       "    </tr>\n",
       "  </tbody>\n",
       "</table>\n",
       "</div>"
      ],
      "text/plain": [
       "                                   game_id  period_id  time_seconds  team_id  \\\n",
       "player_name                                                                    \n",
       "Lionel Andrés Messi Cuccittini  4705538769       2778  2.577345e+06  1239784   \n",
       "Marcelo Vieira da Silva Júnior  3979456219       2338  2.161144e+06  1046925   \n",
       "Álvaro Odriozola Arzallus       3753649494       2169  1.934327e+06  1005081   \n",
       "José Luis Morales Nogales       2242465244       1344  1.238712e+06   607430   \n",
       "Hugo Mallo Novegil              3915316318       2268  2.024664e+06  1055992   \n",
       "Juan Francisco Moreno Fuertes   3474013972       2053  1.867470e+06   916658   \n",
       "Éver Maximiliano David Banega   5123809747       3023  2.685928e+06  1357960   \n",
       "Lucas Vázquez Iglesias          2339977112       1469  1.397931e+06   615600   \n",
       "Jordi Alba Ramos                4895416848       2785  2.491619e+06  1289808   \n",
       "José Luis Gayá Peña             3289278923       1855  1.684123e+06   864068   \n",
       "\n",
       "                                player_id    start_x    start_y      end_x  \\\n",
       "player_name                                                                  \n",
       "Lionel Andrés Messi Cuccittini    6160406  124407.15   52640.16  132844.95   \n",
       "Marcelo Vieira da Silva Júnior    5133810   93085.65   90968.36  101014.20   \n",
       "Álvaro Odriozola Arzallus       407136807   86065.35   11475.68   85872.15   \n",
       "José Luis Morales Nogales       196727786   56079.45   27190.48   59961.30   \n",
       "Hugo Mallo Novegil                5840002   77569.80   16677.00   82930.05   \n",
       "Juan Francisco Moreno Fuertes     4502050   71543.85   12923.40   79160.55   \n",
       "Éver Maximiliano David Banega     6550160  105353.85   72857.24  118285.65   \n",
       "Lucas Vázquez Iglesias            4102176   59982.30   13984.88   59226.30   \n",
       "Jordi Alba Ramos                  6237252  107337.30  111709.04  108414.60   \n",
       "José Luis Gayá Peña               6271544   66810.45   74368.20   70629.30   \n",
       "\n",
       "                                   end_y  bodypart_id  type_id  result_id  \\\n",
       "player_name                                                                 \n",
       "Lionel Andrés Messi Cuccittini  59429.28           14     7463       1834   \n",
       "Marcelo Vieira da Silva Júnior  79523.28           27     3528       1551   \n",
       "Álvaro Odriozola Arzallus       21035.80           38     4993       1463   \n",
       "José Luis Morales Nogales       28331.52           11     5481        874   \n",
       "Hugo Mallo Novegil              28213.88           97     3421       1526   \n",
       "Juan Francisco Moreno Fuertes   21790.60           68     4254       1354   \n",
       "Éver Maximiliano David Banega   70945.08           23     4606       1997   \n",
       "Lucas Vázquez Iglesias          20553.68           15     2642        912   \n",
       "Jordi Alba Ramos                95475.40           41     2209       1908   \n",
       "José Luis Gayá Peña             64261.36           41     2652       1282   \n",
       "\n",
       "                                action_id  action_value  \n",
       "player_name                                              \n",
       "Lionel Andrés Messi Cuccittini    1317903     10.650189  \n",
       "Marcelo Vieira da Silva Júnior    1087920     10.264535  \n",
       "Álvaro Odriozola Arzallus          904555      8.708854  \n",
       "José Luis Morales Nogales          550756      7.819040  \n",
       "Hugo Mallo Novegil                 944856      7.431915  \n",
       "Juan Francisco Moreno Fuertes      875393      7.281309  \n",
       "Éver Maximiliano David Banega     1324517      7.015160  \n",
       "Lucas Vázquez Iglesias             723666      6.908507  \n",
       "Jordi Alba Ramos                  1246334      6.824937  \n",
       "José Luis Gayá Peña                765194      6.811350  "
      ]
     },
     "execution_count": 120,
     "metadata": {},
     "output_type": "execute_result"
    }
   ],
   "source": [
    "prog_actions_players.sort_values(by=\"action_value\", ascending=False).head(10)"
   ]
  },
  {
   "cell_type": "markdown",
   "metadata": {},
   "source": [
    "Estatisticamente comprovado Messi GOAT"
   ]
  }
 ],
 "metadata": {
  "kernelspec": {
   "display_name": "Python 3 (ipykernel)",
   "language": "python",
   "name": "python3"
  },
  "language_info": {
   "codemirror_mode": {
    "name": "ipython",
    "version": 3
   },
   "file_extension": ".py",
   "mimetype": "text/x-python",
   "name": "python",
   "nbconvert_exporter": "python",
   "pygments_lexer": "ipython3",
   "version": "3.9.7"
  }
 },
 "nbformat": 4,
 "nbformat_minor": 4
}
