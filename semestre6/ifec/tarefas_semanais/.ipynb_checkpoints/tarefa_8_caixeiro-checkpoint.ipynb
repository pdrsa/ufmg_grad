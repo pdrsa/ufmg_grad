{
 "cells": [
  {
   "cell_type": "markdown",
   "metadata": {
    "id": "muNSNRzYtfFs"
   },
   "source": [
    "# Caixeiro Viajante com Simulated Annealing\n",
    "\n",
    "# Grupo 8"
   ]
  },
  {
   "cell_type": "markdown",
   "metadata": {
    "id": "-V7fC4axtpyE"
   },
   "source": [
    "## Requerimentos"
   ]
  },
  {
   "cell_type": "code",
   "execution_count": 1,
   "metadata": {
    "id": "tWVl99NQ8m3D"
   },
   "outputs": [],
   "source": [
    "import numpy as np\n",
    "import matplotlib.pyplot as plt\n",
    "import random"
   ]
  },
  {
   "cell_type": "markdown",
   "metadata": {
    "id": "O13abOC8AzBZ"
   },
   "source": [
    "## Funções Auxiliares"
   ]
  },
  {
   "cell_type": "code",
   "execution_count": 31,
   "metadata": {
    "id": "wGTeqhUa7oTh"
   },
   "outputs": [],
   "source": [
    "def mostra_caminho(x, y, caminho, titulo):\n",
    "    \"\"\"\n",
    "    Recebe dois vetores x e y representando os pontos do mapa, um vetor representando\n",
    "    um caminho entre os pontos e um título para o gráfico.\n",
    "    Plota um gráfico mostrando o caminho escolhido.\n",
    "    \"\"\"\n",
    "    # plota os pontos\n",
    "    plt.scatter(x,y)\n",
    "    plt.title(titulo)\n",
    "    for i in range(N-1):\n",
    "        inicio = (x[caminho[i]],y[caminho[i]])\n",
    "        fim = (x[caminho[i + 1]],y[caminho[i + 1]])\n",
    "        # plota o caminho entre os pontos\n",
    "        plt.annotate(\"\", xy= inicio, xycoords='data', xytext=fim, textcoords='data',\n",
    "                     arrowprops=dict(arrowstyle=\"->\", connectionstyle=\"arc3\"))\n",
    "#     plt.show()\n",
    "\n",
    "def calcular_distancia(x,y,i,j):\n",
    "    \"\"\"\n",
    "    Recebe dois vetores de números reais x e y e dois índices i e j.\n",
    "    Retorna a distância entre os pontos (x[i], y[i]) e (x[j], y[j]).\n",
    "    \"\"\"\n",
    "    x_dif = (x[i] - x[j])\n",
    "    y_dif = (y[i] - y[j])\n",
    "    return np.sqrt(x_dif*x_dif + y_dif*y_dif)\n",
    "\n",
    "def obter_mapa_aleatorio(N):\n",
    "    \"\"\"\n",
    "    Recebe um N que corresponde ao tamanho do mapa de pontos.\n",
    "    Retorna os vetores x, y, as distâncias entre os pontos e um caminho aleatório.\n",
    "    \"\"\"\n",
    "    x = list()\n",
    "    y = list()\n",
    "    for i in range(N):\n",
    "        x.append(random.random())\n",
    "        y.append(random.random())\n",
    "  \n",
    "    tabela = np.zeros((N,N))\n",
    "    for i in range(N):\n",
    "        for j in range(N):\n",
    "            if i == j:\n",
    "                tabela[i][j] = 0\n",
    "            else:\n",
    "                tabela[i][j] = calcular_distancia(x,y,i,j)\n",
    " \n",
    "    caminho = list()\n",
    "    for i in range(N):\n",
    "        caminho.append(i)\n",
    "    np.random.shuffle(caminho)\n",
    "\n",
    "    return (x,y,tabela,caminho)\n",
    "\n",
    "def custo(dist,caminho,N):\n",
    "    \"\"\"\n",
    "    Recebe uma matriz dist contendo as distâncias entre os pontos do mapa aleatório,\n",
    "    um vetor contendo um caminho e o número N de pontos no mapa.\n",
    "    Retorna a distância total ao percorrer pelo caminho e voltar ao início.\n",
    "    \"\"\"\n",
    "    ener = 0\n",
    "    for i in range(N - 1):\n",
    "        ener += dist[caminho[i],caminho[i+1]]\n",
    "    ener += dist[caminho[0],caminho[N - 1]]\n",
    "\n",
    "    return ener\n",
    "\n",
    "def obter_novo_caminho(dist,caminho,N):\n",
    "    \"\"\"\n",
    "    Recebe uma matriz dist contendo as distâncias entre os pontos do mapa aleatório,\n",
    "    um vetor contendo um caminho e o número N de pontos no mapa.\n",
    "    Retorna um novo caminho a partir do caminho antigo e um número real (não zero) \n",
    "    que mostra a diferença entre os dois caminhos.\n",
    "    \"\"\"\n",
    "    novo_caminho = np.zeros(N,dtype=np.int16)\n",
    "\n",
    "    i = np.random.randint(N)\n",
    "    j = i\n",
    "    while j == i:\n",
    "        j = np.random.randint(N)\n",
    "    if i > j:\n",
    "        ini = j\n",
    "        fim = i\n",
    "    else:\n",
    "        ini = i\n",
    "        fim = j\n",
    "  \n",
    "    for k in range(N):\n",
    "        if k >= ini and k <= fim:\n",
    "            novo_caminho[k] = caminho[fim-k+ini]\n",
    "        else:\n",
    "            novo_caminho[k] = caminho[k]\n",
    "\n",
    "    # de < 0 => caminho novo é mais curto\n",
    "    # de > 0 => caminho novo é mais longo\n",
    "    esq = ini - 1\n",
    "    if esq < 0:\n",
    "        esq = N - 1\n",
    "    dir = fim + 1\n",
    "    if dir > N - 1:\n",
    "        dir = 0\n",
    "  \n",
    "    de = dist[novo_caminho[esq],novo_caminho[ini]] + dist[novo_caminho[dir],novo_caminho[fim]] - dist[caminho[esq],caminho[ini]] - dist[caminho[dir],caminho[fim]] \n",
    "    return (novo_caminho,de)\n",
    "\n",
    "def calcula_num_passos(T_ini, T_fim, dt):\n",
    "    \"\"\"\n",
    "    Recebe a temperatura inicial, final e a taxa de decaimento.\n",
    "    Calcula em quantos passos a temperatura inicial abaixará até a final.\n",
    "    \"\"\"\n",
    "    num_passos = 0\n",
    "\n",
    "    while T_ini > T_fim:\n",
    "        if num_passos % 100 == 0 and num_passos != 0:\n",
    "            T_ini = T_ini * dt\n",
    "        num_passos += 1\n",
    "\n",
    "    return num_passos"
   ]
  },
  {
   "cell_type": "markdown",
   "metadata": {
    "id": "CXPFVD7cD1EN"
   },
   "source": [
    "## Simulated Annealing"
   ]
  },
  {
   "cell_type": "code",
   "execution_count": 34,
   "metadata": {
    "id": "OR6nBYy68mFl"
   },
   "outputs": [],
   "source": [
    "def simulated_annealing(T_inicial, T_final, dt, N, num_graficos):\n",
    "\n",
    "    # solução inicial aleatória\n",
    "    x, y, dist, caminho = obter_mapa_aleatorio(N)\n",
    "\n",
    "#     plt.scatter(x,y)\n",
    "#     plt.title(\"Mapa Aleatório de Pontos\")\n",
    "#     plt.show()\n",
    "\n",
    "    # cria uma lista para decidir em que passos devo exibir um gráfico de forma\n",
    "    # que sempre haja 5 (incluindo o final) gráficos mostrando o processo inteiro!\n",
    "    num_graficos -= 1\n",
    "    passos_step = int(calcula_num_passos(T_inicial, T_final, dt)/num_graficos)\n",
    "    passos_para_exibir_grafico = [0]\n",
    "    for i in range(1,num_graficos):\n",
    "        passos_para_exibir_grafico.append(passos_para_exibir_grafico[i-1]+passos_step)\n",
    "\n",
    "    # aplicação do simulated annealing\n",
    "    n_passos = 0\n",
    "    while T_inicial > T_final:\n",
    "        if n_passos in passos_para_exibir_grafico:\n",
    "            mostra_caminho(x, y, caminho, f\"Caminho no passo nº {n_passos}: \" + str(custo(dist, caminho, N)))\n",
    "\n",
    "        if n_passos % 100 == 0 and n_passos != 0:\n",
    "            T_inicial = T_inicial * dt\n",
    "\n",
    "        novo_caminho,de = obter_novo_caminho(dist, caminho, N)\n",
    "\n",
    "        prob = np.exp(-(de/T_inicial))\n",
    "        if de < 0:\n",
    "            caminho = novo_caminho\n",
    "        elif de > 0:\n",
    "            if np.random.random() < prob:\n",
    "                caminho = novo_caminho\n",
    "\n",
    "        n_passos += 1\n",
    "\n",
    "    mostra_caminho(x, y, caminho, \"Configuração Final\")\n",
    "    plt.show()"
   ]
  },
  {
   "cell_type": "markdown",
   "metadata": {},
   "source": [
    "### Vamos fazer alguns experimentos com diferentes valores iniciais. Iremos plotar dois gráficos: A configuração aleatória inicial e a configuração final encontrada."
   ]
  },
  {
   "cell_type": "markdown",
   "metadata": {},
   "source": [
    "Iremos avaliar, para gráficos de tamanho 30, quais as diferenças que conseguimos perceber ao alterar a temperatura final."
   ]
  },
  {
   "cell_type": "code",
   "execution_count": 35,
   "metadata": {
    "colab": {
     "base_uri": "https://localhost:8080/",
     "height": 1000
    },
    "id": "ayju4MHsD0D8",
    "outputId": "9a56e508-4ad5-41a6-dfb5-4b3caf45af69"
   },
   "outputs": [
    {
     "data": {
      "image/png": "[encoded data removed]",
      "text/plain": [
       "<Figure size 360x216 with 2 Axes>"
      ]
     },
     "metadata": {
      "needs_background": "light"
     },
     "output_type": "display_data"
    }
   ],
   "source": [
    "# parâmetros iniciais\n",
    "T_inicial = 1\n",
    "T_final = 0.01 # Para simulação quando chega aqui\n",
    "dt = 0.99 # Fator de decaimento\n",
    "N = 40\n",
    "\n",
    "# chama a função\n",
    "fig, axes = plt.subplots(nrows=1, ncols=2, figsize=(5, 3))\n",
    "simulated_annealing(T_inicial, T_final, dt, N, 2, axes)"
   ]
  }
 ],
 "metadata": {
  "colab": {
   "collapsed_sections": [],
   "name": "atividade_fisica_0901.ipynb",
   "provenance": []
  },
  "kernelspec": {
   "display_name": "Python 3",
   "language": "python",
   "name": "python3"
  },
  "language_info": {
   "codemirror_mode": {
    "name": "ipython",
    "version": 3
   },
   "file_extension": ".py",
   "mimetype": "text/x-python",
   "name": "python",
   "nbconvert_exporter": "python",
   "pygments_lexer": "ipython3",
   "version": "3.8.5"
  }
 },
 "nbformat": 4,
 "nbformat_minor": 4
}
