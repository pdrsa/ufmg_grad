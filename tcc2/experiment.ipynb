{
 "cells": [
  {
   "cell_type": "code",
   "execution_count": 1,
   "id": "f7a65cf6-d6de-4eb7-8fde-03deb981d01d",
   "metadata": {},
   "outputs": [],
   "source": [
    "import requests\n",
    "import pandas as pd\n",
    "import json\n",
    "import gzip\n",
    "\n",
    "def parse(path):\n",
    "    g = gzip.open(path, 'rb')\n",
    "    for l in g:\n",
    "        yield json.loads(l)\n",
    "\n",
    "def getDF(path, size=\"all\"):\n",
    "    i = 0\n",
    "    df = {}\n",
    "    for d in parse(path):\n",
    "        df[i] = d\n",
    "        i += 1\n",
    "        if size != \"all\" and i >= size:\n",
    "            break\n",
    "    return pd.DataFrame.from_dict(df, orient='index')\n",
    "\n",
    "df = getDF('/home/joaopedrosa/Documentos/ufmg/tcc2/data/cell_phones.json.gz', size = 100000)"
   ]
  },
  {
   "cell_type": "code",
   "execution_count": 52,
   "id": "d748e4d0-5d02-476a-a431-9e675a69d67d",
   "metadata": {},
   "outputs": [],
   "source": [
    "import torch\n",
    "from torch.utils.data import Dataset\n",
    "from torch.utils.data import DataLoader\n",
    "import pandas as pd\n",
    "\n",
    "class EmotionDataset(Dataset):\n",
    "    def __init__(self, dataframe):\n",
    "        self.dataframe = dataframe\n",
    "\n",
    "    def __len__(self):\n",
    "        return len(self.dataframe)\n",
    "\n",
    "    def __getitem__(self, index):\n",
    "        features = self.dataframe.iloc[index]['reviewText']\n",
    "        rating = self.dataframe.iloc[index]['overall']\n",
    "        # target = torch.nn.functional.one_hot(torch.tensor(int(rating) - 1), num_classes=5)\n",
    "\n",
    "        return features, torch.tensor(rating-1).to(torch.long)"
   ]
  },
  {
   "cell_type": "code",
   "execution_count": 56,
   "id": "b6557545-8008-4601-aedc-8578e8f0fd84",
   "metadata": {},
   "outputs": [],
   "source": [
    "batch_size = 4\n",
    "dataset_train = EmotionDataset(df[:2000])\n",
    "dataloader_train = DataLoader(dataset_train, batch_size=batch_size, shuffle=True)\n",
    "dataset_val = EmotionDataset(df[2000:2200])\n",
    "dataloader_val = DataLoader(dataset_val, batch_size=batch_size, shuffle=True)"
   ]
  },
  {
   "cell_type": "code",
   "execution_count": 35,
   "id": "03cc6aea-daf4-4ba5-89db-8f4b9c18de2d",
   "metadata": {},
   "outputs": [],
   "source": [
    "from steps import train, evaluate, infer"
   ]
  },
  {
   "cell_type": "code",
   "execution_count": 36,
   "id": "84264c03-3aa8-45c5-8d87-b98b18bc8999",
   "metadata": {},
   "outputs": [
    {
     "name": "stderr",
     "output_type": "stream",
     "text": [
      "Some weights of BertForSequenceClassification were not initialized from the model checkpoint at neuralmind/bert-base-portuguese-cased and are newly initialized: ['classifier.weight', 'classifier.bias']\n",
      "You should probably TRAIN this model on a down-stream task to be able to use it for predictions and inference.\n"
     ]
    }
   ],
   "source": [
    "from transformers import BertTokenizer, BertForSequenceClassification\n",
    "\n",
    "# Defining model and tokenizer\n",
    "tokenizer = BertTokenizer.from_pretrained('neuralmind/bert-base-portuguese-cased')\n",
    "model = BertForSequenceClassification.from_pretrained('neuralmind/bert-base-portuguese-cased', num_labels=5)\n",
    "\n",
    "# Optimizer and Loss Function - Sticking to standards here\n",
    "learning_rate = 5e-7\n",
    "optimizer = torch.optim.Adam(model.parameters(), lr=learning_rate)\n",
    "loss_fn = torch.nn.CrossEntropyLoss()"
   ]
  },
  {
   "cell_type": "code",
   "execution_count": 37,
   "id": "1d84f506-e933-45a1-9ea0-9826432dbc7c",
   "metadata": {},
   "outputs": [],
   "source": [
    "device = \"cpu\"\n",
    "epochs=5\n",
    "save_path=\"models/first_model\""
   ]
  },
  {
   "cell_type": "code",
   "execution_count": null,
   "id": "fcb1952c-7d23-4c87-8c2f-4a40007a24c9",
   "metadata": {},
   "outputs": [
    {
     "name": "stderr",
     "output_type": "stream",
     "text": [
      " 32%|█████████████▎                           | 162/500 [04:24<10:08,  1.80s/it]"
     ]
    }
   ],
   "source": [
    "train(model=model,\n",
    "      data_loader=dataloader_train,\n",
    "      val_data_loader=dataloader_val,\n",
    "      tokenizer=tokenizer,\n",
    "      loss=loss_fn,\n",
    "      optimizer=optimizer,\n",
    "      device=device,\n",
    "      num_epochs=epochs,\n",
    "      save_path=save_path)"
   ]
  }
 ],
 "metadata": {
  "kernelspec": {
   "display_name": "Python 3 (ipykernel)",
   "language": "python",
   "name": "python3"
  },
  "language_info": {
   "codemirror_mode": {
    "name": "ipython",
    "version": 3
   },
   "file_extension": ".py",
   "mimetype": "text/x-python",
   "name": "python",
   "nbconvert_exporter": "python",
   "pygments_lexer": "ipython3",
   "version": "3.9.7"
  }
 },
 "nbformat": 4,
 "nbformat_minor": 5
}
